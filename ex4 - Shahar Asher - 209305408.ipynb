{
 "cells": [
  {
   "cell_type": "markdown",
   "metadata": {},
   "source": [
    "# <span style=\"color:red\">**exercise 4**</span>\n",
    "![Python logo](./python_logo.gif)\n",
    "---"
   ]
  },
  {
   "cell_type": "markdown",
   "metadata": {},
   "source": [
    "### submited by:\n",
    "- Name: Shahar Asher\n",
    "- Id: 209305408\n",
    "- Email adress: shaharas@edu.hac.ac.il\n",
    "- Date: 19/04/2024\n",
    "\n",
    "### Operation system: Windows 11\n",
    "### Python version: 3.11.5 (Using anaconda)\n",
    "### IDE: Visual Studio Code\n",
    "### libraries: numpy, pandas, dataclasses, re, inspect\n",
    "---"
   ]
  },
  {
   "cell_type": "code",
   "execution_count": 60,
   "metadata": {},
   "outputs": [],
   "source": [
    "# imports\n",
    "# %pip install numba\n",
    "# %pip install numba pillow\n",
    "from typing import Final\n",
    "import numpy as np\n",
    "from numba import njit\n",
    "from PIL import Image"
   ]
  },
  {
   "cell_type": "markdown",
   "metadata": {},
   "source": [
    "# Q.1\n"
   ]
  },
  {
   "cell_type": "code",
   "execution_count": 61,
   "metadata": {},
   "outputs": [],
   "source": [
    "# canvas\n",
    "H:Final[int] = 1080\n",
    "W:Final[int] = 1920\n",
    "X, Y = np.meshgrid(np.arange(W), np.arange(H))\n",
    "BGCOLOR:np.array = np.array([0.4, 0.4, 0.4])\n",
    "\n",
    "# circle\n",
    "CIRCLE_CENTER:np.array = np.array([600, 400])\n",
    "CIRCLE_RADIUS:Final[int] = 350\n",
    "CIRCLE_COLOR:np.array = np.array([0.8, 0.3, 0.1])\n",
    "\n",
    "# rectangle\n",
    "RECTANGLE_COL:np.array = np.array([800, 1600])\n",
    "RECTANGLE_ROW:np.array = np.array([450, 920])\n",
    "RECTANGLE_COLOR:np.array = np.array([0.5, 0.3, 0.2])\n",
    "\n",
    "IMAGE:np.array = np.ones((H, W, 3)) * BGCOLOR"
   ]
  },
  {
   "cell_type": "code",
   "execution_count": 62,
   "metadata": {},
   "outputs": [],
   "source": [
    "# Define a numba-jitted function to draw the circle and rectangle\n",
    "def draw_shapes(image, X, Y):\n",
    "    # drow the circle\n",
    "    circle_mask = (X - CIRCLE_CENTER[0])**2 + (Y - CIRCLE_CENTER[1])**2 <= CIRCLE_RADIUS**2\n",
    "    image[circle_mask] = CIRCLE_COLOR\n",
    "    \n",
    "    # draw the rectangle\n",
    "    rectangle_mask = (RECTANGLE_COL[0] <= X) & (X < RECTANGLE_COL[1]) & (RECTANGLE_ROW[0] <= Y) & (Y < RECTANGLE_ROW[1])\n",
    "    image[rectangle_mask] = RECTANGLE_COLOR\n",
    "\n",
    "    return image"
   ]
  },
  {
   "cell_type": "code",
   "execution_count": 63,
   "metadata": {},
   "outputs": [],
   "source": [
    "# Draw the shapes on the image\n",
    "IMAGE = draw_shapes(IMAGE, X, Y)\n",
    "\n",
    "# Convert the image to an 8-bit RGB image and save it\n",
    "Image.fromarray((IMAGE * 255).astype(np.uint8)).show()"
   ]
  },
  {
   "cell_type": "markdown",
   "metadata": {},
   "source": [
    "---\n",
    "# Q.2\n"
   ]
  },
  {
   "cell_type": "code",
   "execution_count": null,
   "metadata": {},
   "outputs": [],
   "source": []
  },
  {
   "cell_type": "markdown",
   "metadata": {},
   "source": [
    "---\n",
    "# Q.3\n"
   ]
  },
  {
   "cell_type": "code",
   "execution_count": null,
   "metadata": {},
   "outputs": [],
   "source": []
  },
  {
   "cell_type": "markdown",
   "metadata": {},
   "source": [
    "---\n",
    "# Q.4\n"
   ]
  },
  {
   "cell_type": "code",
   "execution_count": null,
   "metadata": {},
   "outputs": [],
   "source": []
  },
  {
   "cell_type": "markdown",
   "metadata": {},
   "source": [
    "---\n"
   ]
  }
 ],
 "metadata": {
  "kernelspec": {
   "display_name": "base",
   "language": "python",
   "name": "python3"
  },
  "language_info": {
   "codemirror_mode": {
    "name": "ipython",
    "version": 3
   },
   "file_extension": ".py",
   "mimetype": "text/x-python",
   "name": "python",
   "nbconvert_exporter": "python",
   "pygments_lexer": "ipython3",
   "version": "3.11.5"
  }
 },
 "nbformat": 4,
 "nbformat_minor": 2
}
