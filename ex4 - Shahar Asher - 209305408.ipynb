{
 "cells": [
  {
   "cell_type": "markdown",
   "metadata": {},
   "source": [
    "# <span style=\"color:red\">**exercise 4**</span>\n",
    "![Python logo](./python_logo.gif)\n",
    "---"
   ]
  },
  {
   "cell_type": "markdown",
   "metadata": {},
   "source": [
    "### submited by:\n",
    "- Name: Shahar Asher\n",
    "- Id: 209305408\n",
    "- Email adress: shaharas@edu.hac.ac.il\n",
    "- Date: 12/05/2024\n",
    "\n",
    "### Operation system: Windows 11\n",
    "### Python version: 3.11.5 (Using anaconda)\n",
    "### IDE: Visual Studio Code\n",
    "### libraries: typing, numpy, pillow (PIL)\n",
    "---"
   ]
  },
  {
   "cell_type": "code",
   "execution_count": 56,
   "metadata": {},
   "outputs": [],
   "source": [
    "# imports\n",
    "\n",
    "# %pip install numba pillow\n",
    "from typing import Final\n",
    "import numpy as np\n",
    "from PIL import Image"
   ]
  },
  {
   "cell_type": "markdown",
   "metadata": {},
   "source": [
    "# Q.1\n",
    "\n",
    "The solution to Q.1 involves drawing a circle and a rectangle on a canvas and displaying the resulting image. Here's a brief overview of the solution:\n",
    "\n",
    "- Constants are defined for the canvas size, colors, circle parameters, rectangle parameters, and the initial canvas image.\n",
    "- A function `draw_shapes` is defined to draw the circle and rectangle on the canvas image.\n",
    "- The `draw_shapes` function is called to draw the shapes on the canvas.\n",
    "- The resulting image is displayed and saved."
   ]
  },
  {
   "cell_type": "code",
   "execution_count": 57,
   "metadata": {},
   "outputs": [],
   "source": [
    "# canvas\n",
    "H:Final[int] = 1080 # Height of the canvas\n",
    "W:Final[int] = 1920 # Width of the canvas\n",
    "X, Y = np.meshgrid(np.arange(W), np.arange(H))\n",
    "BGCOLOR:Final[np.array] = np.array([0.4, 0.4, 0.4]) # Background color in RGB format\n",
    "\n",
    "# circle\n",
    "CIRCLE_CENTER:Final[np.array] = np.array([600, 400]) \n",
    "CIRCLE_RADIUS:Final[int] = 350 \n",
    "CIRCLE_COLOR:Final[np.array] = np.array([0.8, 0.3, 0.1]) # Color of the circle in RGB format\n",
    "\n",
    "# rectangle\n",
    "RECTANGLE_COL:Final[np.array] = np.array([800, 1600])\n",
    "RECTANGLE_ROW:Final[np.array] = np.array([450, 920])\n",
    "RECTANGLE_COLOR:Final[np.array] = np.array([0.5, 0.3, 0.2]) # Color of the rectangle in RGB format\n",
    "\n",
    "# Create canvas\n",
    "IMAGE:Final[np.array] = np.ones((H, W, 3)) * BGCOLOR"
   ]
  },
  {
   "cell_type": "code",
   "execution_count": 58,
   "metadata": {},
   "outputs": [],
   "source": [
    "def draw_shapes(image:np.array, X:np.array, Y:np.array) -> np.array:\n",
    "    \"\"\"\n",
    "    Draws a circle and a rectangle on the given image.\n",
    "\n",
    "    Args:\n",
    "        image (numpy.narray): The image to draw on.\n",
    "        X (numpy.narray): X-coordinate grid.\n",
    "        Y (numpy.narray): Y-coordinate grid.\n",
    "\n",
    "    Returns:\n",
    "        numpy.narray: Image with shapes drawn.\n",
    "    \"\"\"\n",
    "    # drow the circle\n",
    "    circle_mask:int = (X - CIRCLE_CENTER[0])**2 + (Y - CIRCLE_CENTER[1])**2 <= CIRCLE_RADIUS**2\n",
    "    image[circle_mask] = CIRCLE_COLOR\n",
    "    \n",
    "    # draw the rectangle\n",
    "    rectangle_mask:int = (RECTANGLE_COL[0] <= X) & (X < RECTANGLE_COL[1]) & (RECTANGLE_ROW[0] <= Y) & (Y < RECTANGLE_ROW[1])\n",
    "    image[rectangle_mask] = RECTANGLE_COLOR\n",
    "\n",
    "    return image"
   ]
  },
  {
   "cell_type": "code",
   "execution_count": 59,
   "metadata": {},
   "outputs": [],
   "source": [
    "IMAGE = draw_shapes(IMAGE, X, Y)\n",
    "\n",
    "# Display the image\n",
    "Image.fromarray((IMAGE * 255).astype(np.uint8)).show()\n",
    "\n",
    "# Save the image\n",
    "Image.fromarray((IMAGE * 255).astype(np.uint8)).save(\"Image.png\")"
   ]
  },
  {
   "cell_type": "markdown",
   "metadata": {},
   "source": [
    "---\n",
    "# Q.2\n",
    "\n",
    "The solution to Q.2 involves creating and displaying an image with a square on a colored background. Here's a brief overview of the solution:\n",
    "\n",
    "- Constants are defined for the background size, background color, square color, and square size.\n",
    "- A function `create_image` is defined to create and display the image with the square on the background.\n",
    "- The `create_image` function is called to generate and display the image.\n"
   ]
  },
  {
   "cell_type": "code",
   "execution_count": 60,
   "metadata": {},
   "outputs": [],
   "source": [
    "BGSIZE:Final[tuple[int, int]] = (200, 200) # Size of the background image\n",
    "BGCOLOR:Final[str] = \"red\" # Color of the background in RGB format\n",
    "SQUARECOLOR:Final[str] = \"white\" # Color of the square in RGB format\n",
    "SQUARESIZE:Final[tuple[int, int]] = (100, 100) # Size of the square"
   ]
  },
  {
   "cell_type": "code",
   "execution_count": 61,
   "metadata": {},
   "outputs": [],
   "source": [
    "def create_image() -> Image:\n",
    "    \"\"\"\n",
    "    Creates and displays the image with a square on a colored background.\n",
    "\n",
    "    Returns:\n",
    "        Image: The generated image.\n",
    "    \"\"\"\n",
    "    # Create the background image\n",
    "    img:Image = Image.new(\"RGB\", BGSIZE, BGCOLOR)\n",
    "    # Create the square image\n",
    "    square:Image = Image.new(\"RGB\", SQUARESIZE, SQUARECOLOR)\n",
    "    # Rotate the square by 45 degrees\n",
    "    square:Image = square.rotate(45, fillcolor=BGCOLOR ,expand=True)\n",
    "    # Calculate the position to paste the square onto the background\n",
    "    position = ((BGSIZE[0] - square.width) // 2, (BGSIZE[1] - square.height) // 2)\n",
    "    # Paste the square onto the background image\n",
    "    img.paste(square, position)\n",
    "    img.show()"
   ]
  },
  {
   "cell_type": "code",
   "execution_count": 62,
   "metadata": {},
   "outputs": [],
   "source": [
    "create_image()"
   ]
  },
  {
   "cell_type": "markdown",
   "metadata": {},
   "source": [
    "---\n"
   ]
  }
 ],
 "metadata": {
  "kernelspec": {
   "display_name": "base",
   "language": "python",
   "name": "python3"
  },
  "language_info": {
   "codemirror_mode": {
    "name": "ipython",
    "version": 3
   },
   "file_extension": ".py",
   "mimetype": "text/x-python",
   "name": "python",
   "nbconvert_exporter": "python",
   "pygments_lexer": "ipython3",
   "version": "3.11.5"
  }
 },
 "nbformat": 4,
 "nbformat_minor": 2
}
