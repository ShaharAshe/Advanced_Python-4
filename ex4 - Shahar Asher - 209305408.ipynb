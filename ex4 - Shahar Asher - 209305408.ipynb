{
 "cells": [
  {
   "cell_type": "markdown",
   "metadata": {},
   "source": [
    "# <span style=\"color:red\">**exercise 4**</span>\n",
    "![Python logo](./python_logo.gif)\n",
    "---"
   ]
  },
  {
   "cell_type": "markdown",
   "metadata": {},
   "source": [
    "### submited by:\n",
    "- Name: Shahar Asher\n",
    "- Id: 209305408\n",
    "- Email adress: shaharas@edu.hac.ac.il\n",
    "- Date: 12/05/2024\n",
    "\n",
    "### Operation system: Windows 11\n",
    "### Python version: 3.11.5 (Using anaconda)\n",
    "### IDE: Visual Studio Code\n",
    "### libraries: typing, numpy, pillow (PIL)\n",
    "---"
   ]
  },
  {
   "cell_type": "code",
   "execution_count": 5,
   "metadata": {},
   "outputs": [],
   "source": [
    "# imports\n",
    "\n",
    "# %pip install numba pillow\n",
    "from typing import Final\n",
    "import numpy as np\n",
    "from PIL import Image"
   ]
  },
  {
   "cell_type": "markdown",
   "metadata": {},
   "source": [
    "# Q.1\n"
   ]
  },
  {
   "cell_type": "code",
   "execution_count": 6,
   "metadata": {},
   "outputs": [],
   "source": [
    "# canvas\n",
    "H:Final[int] = 1080\n",
    "W:Final[int] = 1920\n",
    "X, Y = np.meshgrid(np.arange(W), np.arange(H))\n",
    "BGCOLOR:np.array = np.array([0.4, 0.4, 0.4])\n",
    "\n",
    "# circle\n",
    "CIRCLE_CENTER:np.array = np.array([600, 400])\n",
    "CIRCLE_RADIUS:Final[int] = 350\n",
    "CIRCLE_COLOR:np.array = np.array([0.8, 0.3, 0.1])\n",
    "\n",
    "# rectangle\n",
    "RECTANGLE_COL:np.array = np.array([800, 1600])\n",
    "RECTANGLE_ROW:np.array = np.array([450, 920])\n",
    "RECTANGLE_COLOR:np.array = np.array([0.5, 0.3, 0.2])\n",
    "\n",
    "IMAGE:np.array = np.ones((H, W, 3)) * BGCOLOR"
   ]
  },
  {
   "cell_type": "code",
   "execution_count": 7,
   "metadata": {},
   "outputs": [],
   "source": [
    "def draw_shapes(image, X, Y):\n",
    "    # drow the circle\n",
    "    circle_mask = (X - CIRCLE_CENTER[0])**2 + (Y - CIRCLE_CENTER[1])**2 <= CIRCLE_RADIUS**2\n",
    "    image[circle_mask] = CIRCLE_COLOR\n",
    "    \n",
    "    # draw the rectangle\n",
    "    rectangle_mask = (RECTANGLE_COL[0] <= X) & (X < RECTANGLE_COL[1]) & (RECTANGLE_ROW[0] <= Y) & (Y < RECTANGLE_ROW[1])\n",
    "    image[rectangle_mask] = RECTANGLE_COLOR\n",
    "\n",
    "    return image"
   ]
  },
  {
   "cell_type": "code",
   "execution_count": 8,
   "metadata": {},
   "outputs": [],
   "source": [
    "IMAGE = draw_shapes(IMAGE, X, Y)\n",
    "\n",
    "# Display the image\n",
    "Image.fromarray((IMAGE * 255).astype(np.uint8)).show()\n",
    "\n",
    "# Save the image\n",
    "Image.fromarray((IMAGE * 255).astype(np.uint8)).save(\"Image.png\")"
   ]
  },
  {
   "cell_type": "markdown",
   "metadata": {},
   "source": [
    "---\n",
    "# Q.2\n"
   ]
  },
  {
   "cell_type": "code",
   "execution_count": 9,
   "metadata": {},
   "outputs": [],
   "source": [
    "BGSIZE:Final[tuple[int, int]] = (200, 200)\n",
    "BGCOLOR:Final[str] = \"red\"\n",
    "SQUARECOLOR:Final[str] = \"white\"\n",
    "SQUARESIZE:Final[tuple[int, int]] = (100, 100)\n",
    "\n",
    "img:Image = Image.new(\"RGB\", BGSIZE, BGCOLOR)\n",
    "square:Image = Image.new(\"RGB\", SQUARESIZE, SQUARECOLOR)\n",
    "square:Image = square.rotate(45, fillcolor=BGCOLOR ,expand=True)\n",
    "\n",
    "position = ((BGSIZE[0] - square.width) // 2, (BGSIZE[1] - square.height) // 2)\n",
    "\n",
    "img.paste(square, position)\n",
    "img.show()"
   ]
  },
  {
   "cell_type": "markdown",
   "metadata": {},
   "source": [
    "---\n"
   ]
  }
 ],
 "metadata": {
  "kernelspec": {
   "display_name": "base",
   "language": "python",
   "name": "python3"
  },
  "language_info": {
   "codemirror_mode": {
    "name": "ipython",
    "version": 3
   },
   "file_extension": ".py",
   "mimetype": "text/x-python",
   "name": "python",
   "nbconvert_exporter": "python",
   "pygments_lexer": "ipython3",
   "version": "3.11.5"
  }
 },
 "nbformat": 4,
 "nbformat_minor": 2
}
